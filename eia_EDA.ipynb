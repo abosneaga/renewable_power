{
 "cells": [
  {
   "cell_type": "code",
   "execution_count": 2,
   "metadata": {},
   "outputs": [],
   "source": [
    "import pandas as pd\n",
    "import numpy as np\n",
    "import matplotlib.pyplot as plt\n",
    "\n",
    "import requests\n",
    "import json"
   ]
  },
  {
   "cell_type": "markdown",
   "metadata": {},
   "source": [
    "\n",
    "## EIA API Details\n",
    "\n",
    "The one-stop shop for all our API needs is at the [documentation page](https://www.eia.gov/opendata/documentation.php#Submittingrequesttoour) and the [API explorer](https://www.eia.gov/opendata/browser/electricity/rto/region-sub-ba-data?frequency=hourly&data=value;&facets=parent;subba;&parent=CISO;&subba=PGAE;&start=2018-06-19T00&end=2023-10-05T00&sortColumn=period;&sortDirection=asc;).\n",
    "\n",
    "### Rate limits and important usage details:\n",
    "Failure to adhere to these limits will cause a timeout in our usage!\n",
    "- Limits:\n",
    "    - Data length maximum: 5000\n",
    "    - Maximum sustained requests: 9000/hour\n",
    "    - Maximum burst requests: 5/second\n",
    "- Security:\n",
    "    - To generate data, we need to pass an API key along with our call\n",
    "    - You can request one through the EIA website\n",
    "\n",
    "\n",
    "**EIA Developer Key**: JUMaqGFwj6nligR9EDS8O9mYX0qFSD38L7jkES7K"
   ]
  },
  {
   "cell_type": "code",
   "execution_count": 11,
   "metadata": {},
   "outputs": [
    {
     "data": {
      "text/plain": [
       "<Response [200]>"
      ]
     },
     "execution_count": 11,
     "metadata": {},
     "output_type": "execute_result"
    }
   ],
   "source": [
    "# Example API call\n",
    "response_api = requests.get(\"https://api.eia.gov/v2/electricity/rto/region-sub-ba-data/data/?api_key=JUMaqGFwj6nligR9EDS8O9mYX0qFSD38L7jkES7K&frequency=hourly&data[0]=value&facets[parent][]=CISO&facets[subba][]=PGAE&start=2018-06-19T00&end=2023-10-05T00&sort[0][column]=period&sort[0][direction]=asc&offset=0&length=5000\")\n",
    "response_api"
   ]
  },
  {
   "cell_type": "code",
   "execution_count": 26,
   "metadata": {},
   "outputs": [
    {
     "data": {
      "text/html": [
       "<div>\n",
       "<style scoped>\n",
       "    .dataframe tbody tr th:only-of-type {\n",
       "        vertical-align: middle;\n",
       "    }\n",
       "\n",
       "    .dataframe tbody tr th {\n",
       "        vertical-align: top;\n",
       "    }\n",
       "\n",
       "    .dataframe thead th {\n",
       "        text-align: right;\n",
       "    }\n",
       "</style>\n",
       "<table border=\"1\" class=\"dataframe\">\n",
       "  <thead>\n",
       "    <tr style=\"text-align: right;\">\n",
       "      <th></th>\n",
       "      <th>period</th>\n",
       "      <th>subba</th>\n",
       "      <th>subba-name</th>\n",
       "      <th>parent</th>\n",
       "      <th>parent-name</th>\n",
       "      <th>value</th>\n",
       "      <th>value-units</th>\n",
       "    </tr>\n",
       "  </thead>\n",
       "  <tbody>\n",
       "    <tr>\n",
       "      <th>0</th>\n",
       "      <td>2018-07-01T08</td>\n",
       "      <td>PGAE</td>\n",
       "      <td>Pacific Gas and Electric</td>\n",
       "      <td>CISO</td>\n",
       "      <td>California Independent System Operator</td>\n",
       "      <td>12522</td>\n",
       "      <td>megawatthours</td>\n",
       "    </tr>\n",
       "    <tr>\n",
       "      <th>1</th>\n",
       "      <td>2018-07-01T09</td>\n",
       "      <td>PGAE</td>\n",
       "      <td>Pacific Gas and Electric</td>\n",
       "      <td>CISO</td>\n",
       "      <td>California Independent System Operator</td>\n",
       "      <td>11745</td>\n",
       "      <td>megawatthours</td>\n",
       "    </tr>\n",
       "    <tr>\n",
       "      <th>2</th>\n",
       "      <td>2018-07-01T10</td>\n",
       "      <td>PGAE</td>\n",
       "      <td>Pacific Gas and Electric</td>\n",
       "      <td>CISO</td>\n",
       "      <td>California Independent System Operator</td>\n",
       "      <td>11200</td>\n",
       "      <td>megawatthours</td>\n",
       "    </tr>\n",
       "    <tr>\n",
       "      <th>3</th>\n",
       "      <td>2018-07-01T11</td>\n",
       "      <td>PGAE</td>\n",
       "      <td>Pacific Gas and Electric</td>\n",
       "      <td>CISO</td>\n",
       "      <td>California Independent System Operator</td>\n",
       "      <td>10822</td>\n",
       "      <td>megawatthours</td>\n",
       "    </tr>\n",
       "    <tr>\n",
       "      <th>4</th>\n",
       "      <td>2018-07-01T12</td>\n",
       "      <td>PGAE</td>\n",
       "      <td>Pacific Gas and Electric</td>\n",
       "      <td>CISO</td>\n",
       "      <td>California Independent System Operator</td>\n",
       "      <td>10644</td>\n",
       "      <td>megawatthours</td>\n",
       "    </tr>\n",
       "    <tr>\n",
       "      <th>...</th>\n",
       "      <td>...</td>\n",
       "      <td>...</td>\n",
       "      <td>...</td>\n",
       "      <td>...</td>\n",
       "      <td>...</td>\n",
       "      <td>...</td>\n",
       "      <td>...</td>\n",
       "    </tr>\n",
       "    <tr>\n",
       "      <th>4995</th>\n",
       "      <td>2019-01-25T15</td>\n",
       "      <td>PGAE</td>\n",
       "      <td>Pacific Gas and Electric</td>\n",
       "      <td>CISO</td>\n",
       "      <td>California Independent System Operator</td>\n",
       "      <td>10936</td>\n",
       "      <td>megawatthours</td>\n",
       "    </tr>\n",
       "    <tr>\n",
       "      <th>4996</th>\n",
       "      <td>2019-01-25T16</td>\n",
       "      <td>PGAE</td>\n",
       "      <td>Pacific Gas and Electric</td>\n",
       "      <td>CISO</td>\n",
       "      <td>California Independent System Operator</td>\n",
       "      <td>10870</td>\n",
       "      <td>megawatthours</td>\n",
       "    </tr>\n",
       "    <tr>\n",
       "      <th>4997</th>\n",
       "      <td>2019-01-25T17</td>\n",
       "      <td>PGAE</td>\n",
       "      <td>Pacific Gas and Electric</td>\n",
       "      <td>CISO</td>\n",
       "      <td>California Independent System Operator</td>\n",
       "      <td>10400</td>\n",
       "      <td>megawatthours</td>\n",
       "    </tr>\n",
       "    <tr>\n",
       "      <th>4998</th>\n",
       "      <td>2019-01-25T18</td>\n",
       "      <td>PGAE</td>\n",
       "      <td>Pacific Gas and Electric</td>\n",
       "      <td>CISO</td>\n",
       "      <td>California Independent System Operator</td>\n",
       "      <td>9575</td>\n",
       "      <td>megawatthours</td>\n",
       "    </tr>\n",
       "    <tr>\n",
       "      <th>4999</th>\n",
       "      <td>2019-01-25T19</td>\n",
       "      <td>PGAE</td>\n",
       "      <td>Pacific Gas and Electric</td>\n",
       "      <td>CISO</td>\n",
       "      <td>California Independent System Operator</td>\n",
       "      <td>9073</td>\n",
       "      <td>megawatthours</td>\n",
       "    </tr>\n",
       "  </tbody>\n",
       "</table>\n",
       "<p>5000 rows × 7 columns</p>\n",
       "</div>"
      ],
      "text/plain": [
       "             period subba                subba-name parent  \\\n",
       "0     2018-07-01T08  PGAE  Pacific Gas and Electric   CISO   \n",
       "1     2018-07-01T09  PGAE  Pacific Gas and Electric   CISO   \n",
       "2     2018-07-01T10  PGAE  Pacific Gas and Electric   CISO   \n",
       "3     2018-07-01T11  PGAE  Pacific Gas and Electric   CISO   \n",
       "4     2018-07-01T12  PGAE  Pacific Gas and Electric   CISO   \n",
       "...             ...   ...                       ...    ...   \n",
       "4995  2019-01-25T15  PGAE  Pacific Gas and Electric   CISO   \n",
       "4996  2019-01-25T16  PGAE  Pacific Gas and Electric   CISO   \n",
       "4997  2019-01-25T17  PGAE  Pacific Gas and Electric   CISO   \n",
       "4998  2019-01-25T18  PGAE  Pacific Gas and Electric   CISO   \n",
       "4999  2019-01-25T19  PGAE  Pacific Gas and Electric   CISO   \n",
       "\n",
       "                                 parent-name  value    value-units  \n",
       "0     California Independent System Operator  12522  megawatthours  \n",
       "1     California Independent System Operator  11745  megawatthours  \n",
       "2     California Independent System Operator  11200  megawatthours  \n",
       "3     California Independent System Operator  10822  megawatthours  \n",
       "4     California Independent System Operator  10644  megawatthours  \n",
       "...                                      ...    ...            ...  \n",
       "4995  California Independent System Operator  10936  megawatthours  \n",
       "4996  California Independent System Operator  10870  megawatthours  \n",
       "4997  California Independent System Operator  10400  megawatthours  \n",
       "4998  California Independent System Operator   9575  megawatthours  \n",
       "4999  California Independent System Operator   9073  megawatthours  \n",
       "\n",
       "[5000 rows x 7 columns]"
      ]
     },
     "execution_count": 26,
     "metadata": {},
     "output_type": "execute_result"
    }
   ],
   "source": [
    "trial_df = pd.DataFrame(json.loads(response_api.text)['response']['data'])\n",
    "trial_df"
   ]
  },
  {
   "cell_type": "markdown",
   "metadata": {},
   "source": [
    "Data looks extremely clean, no null values to be found, at least in prelim analysis"
   ]
  },
  {
   "cell_type": "code",
   "execution_count": 31,
   "metadata": {},
   "outputs": [
    {
     "data": {
      "text/plain": [
       "period         0\n",
       "subba          0\n",
       "subba-name     0\n",
       "parent         0\n",
       "parent-name    0\n",
       "value          0\n",
       "value-units    0\n",
       "dtype: int64"
      ]
     },
     "execution_count": 31,
     "metadata": {},
     "output_type": "execute_result"
    }
   ],
   "source": [
    "trial_df.isna().sum(axis=0)"
   ]
  },
  {
   "cell_type": "code",
   "execution_count": null,
   "metadata": {},
   "outputs": [],
   "source": []
  },
  {
   "cell_type": "markdown",
   "metadata": {},
   "source": [
    "# I am so... confused\n",
    "\n",
    "We can get data at the granularity not at the level of balancing authority (CAISO), but at the level of PG&E. This creates several really weird questions:\n",
    "1. Why are we able to get demand levels from PG&E directly? Aren't they not the grid operators/BA's here?\n",
    "    - This is actually what ISO means. While PG&E owns several transmission lines (i.e they are major transimission owners (TOs), they cede control to the CAISO for balance purposes).\n",
    "    - PG&E also owns some generators!\n",
    "    - CAISO sort of operates a pool of energy. We buy energy from PG&E, because they will generate/buy the amount of energy we consume...? \n",
    "2. When we take into account that we buy power from PG&E directly, it begs the question: who is actually responsible for powering any particular person's house? Could I have bought from a different participating transmission owner (TO) instead?\n",
    "    - Yes! CAISO means that you can get your power delivered by PG&E, but buy power from another company!\n",
    "3. "
   ]
  },
  {
   "cell_type": "code",
   "execution_count": null,
   "metadata": {},
   "outputs": [],
   "source": []
  }
 ],
 "metadata": {
  "kernelspec": {
   "display_name": "capstone-proj",
   "language": "python",
   "name": "python3"
  },
  "language_info": {
   "codemirror_mode": {
    "name": "ipython",
    "version": 3
   },
   "file_extension": ".py",
   "mimetype": "text/x-python",
   "name": "python",
   "nbconvert_exporter": "python",
   "pygments_lexer": "ipython3",
   "version": "3.11.6"
  }
 },
 "nbformat": 4,
 "nbformat_minor": 2
}
